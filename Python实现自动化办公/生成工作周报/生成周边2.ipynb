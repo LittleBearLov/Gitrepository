{
 "cells": [
  {
   "cell_type": "code",
   "execution_count": null,
   "metadata": {},
   "outputs": [],
   "source": [
    "from docx import Document"
   ]
  },
  {
   "cell_type": "code",
   "execution_count": null,
   "metadata": {},
   "outputs": [],
   "source": [
    "import pandas as pd\n",
    "import matplotlib.pyplot as plt"
   ]
  },
  {
   "cell_type": "code",
   "execution_count": null,
   "metadata": {},
   "outputs": [],
   "source": [
    "students = pd.read_excel('people.xlsx')\n",
    "students.sort_values(by='Score', ascending=False, inplace=True)\n",
    "plt.bar(students.Name,students.Score,color='orange')\n",
    "#设置标题、X轴名称与Y轴名称，fontsize 设置字号\n",
    "plt.title('Student Score',fontsize=16)\n",
    "plt.xlabel('Name')\n",
    "plt.ylabel('Score')\n",
    "\n",
    "plt.xticks(students.Name,rotation='90')\n",
    "#紧凑型布局（因为x轴文字比较长，为了让其显示全，使用紧凑型布局\n",
    "plt.tight_layout()\n",
    "imgname = 'data.jpg'\n",
    "plt.savefig(imgname)\n",
    "\n",
    "document = Document()\n",
    "p = document.add_heading('数据分析报告',level=0)\n",
    "first_student = students.iloc[0, :]['Name']#绝对位置去获取\n",
    "first_score = students.iloc[0, :]['Score']\n",
    "p = document.add_paragraph('分数排名第一的学生是')\n",
    "p.add_run(str(first_student)).bold=True\n",
    "p.add_run(',他的分数是')\n",
    "p.add_run(str(first_score)).bold=True"
   ]
  },
  {
   "cell_type": "code",
   "execution_count": null,
   "metadata": {},
   "outputs": [],
   "source": [
    "#班里情况\n",
    "p1 = document.add_paragraph(f'总共有{len(students.Name)}名学生参加***，***')\n",
    "table = document.add_table(rows=len(students.Name)+1,cols=2)\n",
    "\n",
    "#表格风格\n",
    "table.style='LightShading-Accent1'\n",
    "table.cell(0,0).text = '学生名称'\n",
    "table.cell(0,1).text = '学生分数'"
   ]
  },
  {
   "cell_type": "code",
   "execution_count": null,
   "metadata": {},
   "outputs": [],
   "source": [
    "for i, (index, row) in enumerate(students.iterrows()):\n",
    "    table.cell(i + 1,0).text = str(row['Name'])\n",
    "    table.cell(i + 1,1).text = str(row['Score'])"
   ]
  },
  {
   "cell_type": "code",
   "execution_count": null,
   "metadata": {},
   "outputs": [],
   "source": [
    "\n",
    "document.add_picture(imgname)\n",
    "document.save('s.docx')\n",
    "print('done')\n",
    "\n"
   ]
  }
 ],
 "metadata": {
  "interpreter": {
   "hash": "4e0b39fdc4f2df2992ef135d097972ec225e019845a073717c5b1bc8df292c8a"
  },
  "kernelspec": {
   "display_name": "Python 3.10.0 64-bit",
   "name": "python3"
  },
  "language_info": {
   "codemirror_mode": {
    "name": "ipython",
    "version": 3
   },
   "file_extension": ".py",
   "mimetype": "text/x-python",
   "name": "python",
   "nbconvert_exporter": "python",
   "pygments_lexer": "ipython3",
   "version": "3.10.0"
  },
  "orig_nbformat": 4
 },
 "nbformat": 4,
 "nbformat_minor": 2
}
