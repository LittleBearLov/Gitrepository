{
 "cells": [
  {
   "cell_type": "code",
   "execution_count": null,
   "metadata": {},
   "outputs": [],
   "source": [
    "import os"
   ]
  },
  {
   "cell_type": "code",
   "execution_count": null,
   "metadata": {},
   "outputs": [],
   "source": [
    "from tkinter import Tk, Menu, Label, Button"
   ]
  },
  {
   "cell_type": "code",
   "execution_count": null,
   "metadata": {},
   "outputs": [],
   "source": [
    "from tkinter.filedialog import askopenfilenames"
   ]
  },
  {
   "cell_type": "code",
   "execution_count": null,
   "metadata": {},
   "outputs": [],
   "source": [
    "from tkinter.messagebox import showerror, showinfo"
   ]
  },
  {
   "cell_type": "code",
   "execution_count": null,
   "metadata": {},
   "outputs": [],
   "source": [
    "from remove_bg import remove_bg"
   ]
  },
  {
   "cell_type": "code",
   "execution_count": null,
   "metadata": {},
   "outputs": [],
   "source": [
    "from threading import Thread"
   ]
  },
  {
   "cell_type": "code",
   "execution_count": null,
   "metadata": {},
   "outputs": [],
   "source": [
    "IMGPATH = 'C:\\Gitrepository\\image'"
   ]
  },
  {
   "cell_type": "code",
   "execution_count": null,
   "id": "e70231ed",
   "metadata": {},
   "outputs": [],
   "source": [
    "class GUI(object):\n",
    "    def __init__(self, window):\n",
    "        self.window = window\n",
    "        self.window.title('去除图片背景')\n",
    "        self.window.geometry('300x200')\n",
    "        menubar = Menu(self.window)\n",
    "        # 定义空菜单\n",
    "        filemenu = Menu(menubar, tearoff=0)\n",
    "        filemenu.add_command(label='帮助', command=self.helpme)\n",
    "        filemenu.add_separator()\n",
    "        # 显示\n",
    "        self.l = Label(window, text='')\n",
    "        self.l.pack(padx=5, pady=10)  # 固定窗口位置\n",
    "        # 选择图片\n",
    "        btn1 = Button(window, text='选择图片', width=15, height=2, command=self.get_img)\n",
    "        btn1.pack()\n",
    "        # 生成图片\n",
    "        self.send_btn = Button(window, text='去除背景', width=15, height=2, command=self.gen_img)\n",
    "        self.send_btn.pack()\n",
    "    def helpme(self):\n",
    "        showerror('帮助', '请关注「懒编程」公众号，联系作者二两')\n",
    "    def get_img(self):\n",
    "        global IMGPATH\n",
    "        # 选择文件\n",
    "        filenames = askopenfilenames(filetypes=((\"jpeg img\", \"*.jpeg\"), (\"jpg img\", \"*.jpg\"), (\"png img\", \"*.png\")))\n",
    "        if len(filenames) > 0:\n",
    "            fnlist = [fn for fn in filenames]\n",
    "            fnstr = '\\n'.join(fnlist)\n",
    "            self.l.config(text=fnstr)\n",
    "            IMGPATH = fnlist\n",
    "        else:\n",
    "            self.l.config(text='目前没有选择任何图片文件')\n",
    "    def gen_img(self):\n",
    "        global IMGPATH\n",
    "        respathlist = []\n",
    "        for imgpath in IMGPATH:\n",
    "            filepath,tempfilename = os.path.split(imgpath)\n",
    "            filename,extension = os.path.splitext(tempfilename)\n",
    "            # Thread\n",
    "            remove_bg(imgpath)\n",
    "            respathlist.append(imgpath)\n",
    "        respath = ' '.join(respathlist)\n",
    "        showinfo('完成生成', f'图片处理完成，路径为：{respath}')"
   ]
  },
  {
   "cell_type": "code",
   "execution_count": null,
   "metadata": {},
   "outputs": [],
   "source": [
    "if __name__ == '__main__':\n",
    "    # 创建窗口\n",
    "    window = Tk()\n",
    "    GUI(window)\n",
    "     # 显示窗口 必须在所有控件后\n",
    "    window.mainloop()"
   ]
  }
 ],
 "metadata": {
  "interpreter": {
   "hash": "07efdcd4b820c98a756949507a4d29d7862823915ec7477944641bea022f4f62"
  },
  "kernelspec": {
   "display_name": "Python 3.8.8 64-bit ('base': conda)",
   "name": "python3"
  },
  "language_info": {
   "codemirror_mode": {
    "name": "ipython",
    "version": 3
   },
   "file_extension": ".py",
   "mimetype": "text/x-python",
   "name": "python",
   "nbconvert_exporter": "python",
   "pygments_lexer": "ipython3",
   "version": "3.8.8"
  },
  "orig_nbformat": 4
 },
 "nbformat": 4,
 "nbformat_minor": 2
}
