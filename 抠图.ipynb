{
 "cells": [
  {
   "cell_type": "markdown",
   "metadata": {},
   "source": [
    "实现一张图片抠图："
   ]
  },
  {
   "cell_type": "code",
   "execution_count": null,
   "metadata": {},
   "outputs": [],
   "source": [
    "from removebg import RemoveBg"
   ]
  },
  {
   "cell_type": "code",
   "execution_count": null,
   "metadata": {},
   "outputs": [],
   "source": [
    "rmbg = RemoveBg(\"e5p4tzpyEJJDaUSfbCDVj73v\", \"error.log\")"
   ]
  },
  {
   "cell_type": "code",
   "execution_count": null,
   "metadata": {},
   "outputs": [],
   "source": [
    "rmbg.remove_background_from_img_file(r\"C:\\Gitrepository\\image\\removebg\\1.jpg\") "
   ]
  },
  {
   "cell_type": "markdown",
   "metadata": {},
   "source": [
    "实现批量抠图："
   ]
  },
  {
   "cell_type": "code",
   "execution_count": 1,
   "metadata": {},
   "outputs": [
    {
     "name": "stdout",
     "output_type": "stream",
     "text": [
      "C:\\Gitrepository\\image\\1.jpg is done\n",
      "C:\\Gitrepository\\image\\2.jpg is done\n",
      "C:\\Gitrepository\\image\\3.jpg is done\n",
      "C:\\Gitrepository\\image\\4.jpg is done\n"
     ]
    }
   ],
   "source": [
    "from removebg import RemoveBg\n",
    "import os\n",
    "rmbg = RemoveBg(\"R6BKfwJzxyZot8koPDZKfNBF\", \"error.log\")\n",
    "path = 'C:\\Gitrepository\\image'\n",
    "for pic in os.listdir(path):\n",
    "    img_path = os.path.join(path, pic)\n",
    "    rmbg.remove_background_from_img_file(img_path)\n",
    "    print (f'{img_path} is done')\n",
    " "
   ]
  }
 ],
 "metadata": {
  "interpreter": {
   "hash": "07efdcd4b820c98a756949507a4d29d7862823915ec7477944641bea022f4f62"
  },
  "kernelspec": {
   "display_name": "Python 3.8.8 64-bit ('base': conda)",
   "name": "python3"
  },
  "language_info": {
   "codemirror_mode": {
    "name": "ipython",
    "version": 3
   },
   "file_extension": ".py",
   "mimetype": "text/x-python",
   "name": "python",
   "nbconvert_exporter": "python",
   "pygments_lexer": "ipython3",
   "version": "3.8.8"
  },
  "orig_nbformat": 4
 },
 "nbformat": 4,
 "nbformat_minor": 2
}
